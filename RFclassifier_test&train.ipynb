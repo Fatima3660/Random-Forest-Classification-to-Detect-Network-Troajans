{
  "cells": [
    {
      "cell_type": "markdown",
      "metadata": {
        "id": "view-in-github",
        "colab_type": "text"
      },
      "source": [
        "<a href=\"https://colab.research.google.com/github/Fatima3660/Random-Forest-Classification-to-Detect-Network-Troajans/blob/main/RFclassifier_test%26train.ipynb\" target=\"_parent\"><img src=\"https://colab.research.google.com/assets/colab-badge.svg\" alt=\"Open In Colab\"/></a>"
      ]
    },
    {
      "cell_type": "markdown",
      "metadata": {
        "id": "VTJsevXYr53p"
      },
      "source": [
        "# Importing Libraries"
      ]
    },
    {
      "cell_type": "code",
      "execution_count": null,
      "metadata": {
        "id": "R16hesZGdGMr"
      },
      "outputs": [],
      "source": [
        "import numpy as np #to convert dataset to numpy arrays\n",
        "import pandas as pd #used in classification to create labelled data\n",
        "from matplotlib import pyplot as plt\n",
        "from sklearn import datasets #used to import datasets\n",
        "from sklearn.model_selection import train_test_split #used to split the data into test and train dataset\n",
        "from sklearn import preprocessing #used to encode the dataset column to convert categorical to numerical column\n",
        "from sklearn.ensemble import RandomForestClassifier #the random forest classifier module\n",
        "from sklearn.feature_selection import SelectFromModel #used to extract feature from the dataset\n",
        "from sklearn.metrics import accuracy_score #used to calculate the accuracy value of the random forest detection\n",
        "import seaborn as sns #used to create bar plots"
      ]
    },
    {
      "cell_type": "markdown",
      "metadata": {
        "id": "XHrCWgyOsX_i"
      },
      "source": [
        "# Import Dataset"
      ]
    },
    {
      "cell_type": "code",
      "execution_count": null,
      "metadata": {
        "colab": {
          "base_uri": "https://localhost:8080/",
          "height": 525
        },
        "id": "ypx9eITCsejV",
        "outputId": "114d9d55-546f-4a70-cc75-18288bb9808e"
      },
      "outputs": [
        {
          "output_type": "stream",
          "name": "stdout",
          "text": [
            "The shape of the dataset :  (177482, 86)\n"
          ]
        },
        {
          "output_type": "execute_result",
          "data": {
            "text/plain": [
              "   Unnamed: 0                                Flow ID    Source IP  \\\n",
              "0       73217    10.42.0.42-121.14.255.84-49975-80-6   10.42.0.42   \n",
              "1       72089  172.217.6.226-10.42.0.42-443-49169-17   10.42.0.42   \n",
              "2       96676       10.42.0.1-10.42.0.42-53-37749-17   10.42.0.42   \n",
              "3       42891       10.42.0.1-10.42.0.42-53-41352-17   10.42.0.42   \n",
              "4      169326  10.42.0.151-107.22.241.77-44353-443-6  10.42.0.151   \n",
              "\n",
              "   Source Port Destination IP  Destination Port  Protocol  \\\n",
              "0        49975  121.14.255.84                80         6   \n",
              "1        49169  172.217.6.226               443        17   \n",
              "2        37749      10.42.0.1                53        17   \n",
              "3        41352      10.42.0.1                53        17   \n",
              "4        44353  107.22.241.77               443         6   \n",
              "\n",
              "             Timestamp  Flow Duration  Total Fwd Packets  ...  \\\n",
              "0  17/07/2017 01:18:33       10743584                  4  ...   \n",
              "1  17/07/2017 10:25:25         254217                  6  ...   \n",
              "2  30/06/2017 07:16:12        1023244                  1  ...   \n",
              "3  13/07/2017 03:48:44         286483                  1  ...   \n",
              "4  05/07/2017 10:47:35       65633087                 12  ...   \n",
              "\n",
              "   min_seg_size_forward  Active Mean  Active Std  Active Max  Active Min  \\\n",
              "0                    20          0.0         0.0         0.0         0.0   \n",
              "1                    20          0.0         0.0         0.0         0.0   \n",
              "2                    32          0.0         0.0         0.0         0.0   \n",
              "3                    20          0.0         0.0         0.0         0.0   \n",
              "4                    32     322594.0         0.0    322594.0    322594.0   \n",
              "\n",
              "    Idle Mean  Idle Std    Idle Max    Idle Min   Class  \n",
              "0         0.0       0.0         0.0         0.0  Trojan  \n",
              "1         0.0       0.0         0.0         0.0  Trojan  \n",
              "2         0.0       0.0         0.0         0.0  Benign  \n",
              "3         0.0       0.0         0.0         0.0  Trojan  \n",
              "4  60306983.0       0.0  60306983.0  60306983.0  Benign  \n",
              "\n",
              "[5 rows x 86 columns]"
            ],
            "text/html": [
              "\n",
              "  <div id=\"df-3760f716-d1e2-4d7c-b20d-b6cc266df163\">\n",
              "    <div class=\"colab-df-container\">\n",
              "      <div>\n",
              "<style scoped>\n",
              "    .dataframe tbody tr th:only-of-type {\n",
              "        vertical-align: middle;\n",
              "    }\n",
              "\n",
              "    .dataframe tbody tr th {\n",
              "        vertical-align: top;\n",
              "    }\n",
              "\n",
              "    .dataframe thead th {\n",
              "        text-align: right;\n",
              "    }\n",
              "</style>\n",
              "<table border=\"1\" class=\"dataframe\">\n",
              "  <thead>\n",
              "    <tr style=\"text-align: right;\">\n",
              "      <th></th>\n",
              "      <th>Unnamed: 0</th>\n",
              "      <th>Flow ID</th>\n",
              "      <th>Source IP</th>\n",
              "      <th>Source Port</th>\n",
              "      <th>Destination IP</th>\n",
              "      <th>Destination Port</th>\n",
              "      <th>Protocol</th>\n",
              "      <th>Timestamp</th>\n",
              "      <th>Flow Duration</th>\n",
              "      <th>Total Fwd Packets</th>\n",
              "      <th>...</th>\n",
              "      <th>min_seg_size_forward</th>\n",
              "      <th>Active Mean</th>\n",
              "      <th>Active Std</th>\n",
              "      <th>Active Max</th>\n",
              "      <th>Active Min</th>\n",
              "      <th>Idle Mean</th>\n",
              "      <th>Idle Std</th>\n",
              "      <th>Idle Max</th>\n",
              "      <th>Idle Min</th>\n",
              "      <th>Class</th>\n",
              "    </tr>\n",
              "  </thead>\n",
              "  <tbody>\n",
              "    <tr>\n",
              "      <th>0</th>\n",
              "      <td>73217</td>\n",
              "      <td>10.42.0.42-121.14.255.84-49975-80-6</td>\n",
              "      <td>10.42.0.42</td>\n",
              "      <td>49975</td>\n",
              "      <td>121.14.255.84</td>\n",
              "      <td>80</td>\n",
              "      <td>6</td>\n",
              "      <td>17/07/2017 01:18:33</td>\n",
              "      <td>10743584</td>\n",
              "      <td>4</td>\n",
              "      <td>...</td>\n",
              "      <td>20</td>\n",
              "      <td>0.0</td>\n",
              "      <td>0.0</td>\n",
              "      <td>0.0</td>\n",
              "      <td>0.0</td>\n",
              "      <td>0.0</td>\n",
              "      <td>0.0</td>\n",
              "      <td>0.0</td>\n",
              "      <td>0.0</td>\n",
              "      <td>Trojan</td>\n",
              "    </tr>\n",
              "    <tr>\n",
              "      <th>1</th>\n",
              "      <td>72089</td>\n",
              "      <td>172.217.6.226-10.42.0.42-443-49169-17</td>\n",
              "      <td>10.42.0.42</td>\n",
              "      <td>49169</td>\n",
              "      <td>172.217.6.226</td>\n",
              "      <td>443</td>\n",
              "      <td>17</td>\n",
              "      <td>17/07/2017 10:25:25</td>\n",
              "      <td>254217</td>\n",
              "      <td>6</td>\n",
              "      <td>...</td>\n",
              "      <td>20</td>\n",
              "      <td>0.0</td>\n",
              "      <td>0.0</td>\n",
              "      <td>0.0</td>\n",
              "      <td>0.0</td>\n",
              "      <td>0.0</td>\n",
              "      <td>0.0</td>\n",
              "      <td>0.0</td>\n",
              "      <td>0.0</td>\n",
              "      <td>Trojan</td>\n",
              "    </tr>\n",
              "    <tr>\n",
              "      <th>2</th>\n",
              "      <td>96676</td>\n",
              "      <td>10.42.0.1-10.42.0.42-53-37749-17</td>\n",
              "      <td>10.42.0.42</td>\n",
              "      <td>37749</td>\n",
              "      <td>10.42.0.1</td>\n",
              "      <td>53</td>\n",
              "      <td>17</td>\n",
              "      <td>30/06/2017 07:16:12</td>\n",
              "      <td>1023244</td>\n",
              "      <td>1</td>\n",
              "      <td>...</td>\n",
              "      <td>32</td>\n",
              "      <td>0.0</td>\n",
              "      <td>0.0</td>\n",
              "      <td>0.0</td>\n",
              "      <td>0.0</td>\n",
              "      <td>0.0</td>\n",
              "      <td>0.0</td>\n",
              "      <td>0.0</td>\n",
              "      <td>0.0</td>\n",
              "      <td>Benign</td>\n",
              "    </tr>\n",
              "    <tr>\n",
              "      <th>3</th>\n",
              "      <td>42891</td>\n",
              "      <td>10.42.0.1-10.42.0.42-53-41352-17</td>\n",
              "      <td>10.42.0.42</td>\n",
              "      <td>41352</td>\n",
              "      <td>10.42.0.1</td>\n",
              "      <td>53</td>\n",
              "      <td>17</td>\n",
              "      <td>13/07/2017 03:48:44</td>\n",
              "      <td>286483</td>\n",
              "      <td>1</td>\n",
              "      <td>...</td>\n",
              "      <td>20</td>\n",
              "      <td>0.0</td>\n",
              "      <td>0.0</td>\n",
              "      <td>0.0</td>\n",
              "      <td>0.0</td>\n",
              "      <td>0.0</td>\n",
              "      <td>0.0</td>\n",
              "      <td>0.0</td>\n",
              "      <td>0.0</td>\n",
              "      <td>Trojan</td>\n",
              "    </tr>\n",
              "    <tr>\n",
              "      <th>4</th>\n",
              "      <td>169326</td>\n",
              "      <td>10.42.0.151-107.22.241.77-44353-443-6</td>\n",
              "      <td>10.42.0.151</td>\n",
              "      <td>44353</td>\n",
              "      <td>107.22.241.77</td>\n",
              "      <td>443</td>\n",
              "      <td>6</td>\n",
              "      <td>05/07/2017 10:47:35</td>\n",
              "      <td>65633087</td>\n",
              "      <td>12</td>\n",
              "      <td>...</td>\n",
              "      <td>32</td>\n",
              "      <td>322594.0</td>\n",
              "      <td>0.0</td>\n",
              "      <td>322594.0</td>\n",
              "      <td>322594.0</td>\n",
              "      <td>60306983.0</td>\n",
              "      <td>0.0</td>\n",
              "      <td>60306983.0</td>\n",
              "      <td>60306983.0</td>\n",
              "      <td>Benign</td>\n",
              "    </tr>\n",
              "  </tbody>\n",
              "</table>\n",
              "<p>5 rows × 86 columns</p>\n",
              "</div>\n",
              "      <button class=\"colab-df-convert\" onclick=\"convertToInteractive('df-3760f716-d1e2-4d7c-b20d-b6cc266df163')\"\n",
              "              title=\"Convert this dataframe to an interactive table.\"\n",
              "              style=\"display:none;\">\n",
              "        \n",
              "  <svg xmlns=\"http://www.w3.org/2000/svg\" height=\"24px\"viewBox=\"0 0 24 24\"\n",
              "       width=\"24px\">\n",
              "    <path d=\"M0 0h24v24H0V0z\" fill=\"none\"/>\n",
              "    <path d=\"M18.56 5.44l.94 2.06.94-2.06 2.06-.94-2.06-.94-.94-2.06-.94 2.06-2.06.94zm-11 1L8.5 8.5l.94-2.06 2.06-.94-2.06-.94L8.5 2.5l-.94 2.06-2.06.94zm10 10l.94 2.06.94-2.06 2.06-.94-2.06-.94-.94-2.06-.94 2.06-2.06.94z\"/><path d=\"M17.41 7.96l-1.37-1.37c-.4-.4-.92-.59-1.43-.59-.52 0-1.04.2-1.43.59L10.3 9.45l-7.72 7.72c-.78.78-.78 2.05 0 2.83L4 21.41c.39.39.9.59 1.41.59.51 0 1.02-.2 1.41-.59l7.78-7.78 2.81-2.81c.8-.78.8-2.07 0-2.86zM5.41 20L4 18.59l7.72-7.72 1.47 1.35L5.41 20z\"/>\n",
              "  </svg>\n",
              "      </button>\n",
              "      \n",
              "  <style>\n",
              "    .colab-df-container {\n",
              "      display:flex;\n",
              "      flex-wrap:wrap;\n",
              "      gap: 12px;\n",
              "    }\n",
              "\n",
              "    .colab-df-convert {\n",
              "      background-color: #E8F0FE;\n",
              "      border: none;\n",
              "      border-radius: 50%;\n",
              "      cursor: pointer;\n",
              "      display: none;\n",
              "      fill: #1967D2;\n",
              "      height: 32px;\n",
              "      padding: 0 0 0 0;\n",
              "      width: 32px;\n",
              "    }\n",
              "\n",
              "    .colab-df-convert:hover {\n",
              "      background-color: #E2EBFA;\n",
              "      box-shadow: 0px 1px 2px rgba(60, 64, 67, 0.3), 0px 1px 3px 1px rgba(60, 64, 67, 0.15);\n",
              "      fill: #174EA6;\n",
              "    }\n",
              "\n",
              "    [theme=dark] .colab-df-convert {\n",
              "      background-color: #3B4455;\n",
              "      fill: #D2E3FC;\n",
              "    }\n",
              "\n",
              "    [theme=dark] .colab-df-convert:hover {\n",
              "      background-color: #434B5C;\n",
              "      box-shadow: 0px 1px 3px 1px rgba(0, 0, 0, 0.15);\n",
              "      filter: drop-shadow(0px 1px 2px rgba(0, 0, 0, 0.3));\n",
              "      fill: #FFFFFF;\n",
              "    }\n",
              "  </style>\n",
              "\n",
              "      <script>\n",
              "        const buttonEl =\n",
              "          document.querySelector('#df-3760f716-d1e2-4d7c-b20d-b6cc266df163 button.colab-df-convert');\n",
              "        buttonEl.style.display =\n",
              "          google.colab.kernel.accessAllowed ? 'block' : 'none';\n",
              "\n",
              "        async function convertToInteractive(key) {\n",
              "          const element = document.querySelector('#df-3760f716-d1e2-4d7c-b20d-b6cc266df163');\n",
              "          const dataTable =\n",
              "            await google.colab.kernel.invokeFunction('convertToInteractive',\n",
              "                                                     [key], {});\n",
              "          if (!dataTable) return;\n",
              "\n",
              "          const docLinkHtml = 'Like what you see? Visit the ' +\n",
              "            '<a target=\"_blank\" href=https://colab.research.google.com/notebooks/data_table.ipynb>data table notebook</a>'\n",
              "            + ' to learn more about interactive tables.';\n",
              "          element.innerHTML = '';\n",
              "          dataTable['output_type'] = 'display_data';\n",
              "          await google.colab.output.renderOutput(dataTable, element);\n",
              "          const docLink = document.createElement('div');\n",
              "          docLink.innerHTML = docLinkHtml;\n",
              "          element.appendChild(docLink);\n",
              "        }\n",
              "      </script>\n",
              "    </div>\n",
              "  </div>\n",
              "  "
            ]
          },
          "metadata": {},
          "execution_count": 2
        }
      ],
      "source": [
        "dataset = pd.read_csv(\"Trojan_Detection.csv\", sep = r',', skipinitialspace = True)\n",
        "print('The shape of the dataset : ', dataset.shape) #177482 instances, 86 attributes , dimensions of the dattaset\n",
        "dataset.head() # preview the dataset"
      ]
    },
    {
      "cell_type": "code",
      "execution_count": null,
      "metadata": {
        "id": "4x5Rt45l1A5q",
        "colab": {
          "base_uri": "https://localhost:8080/"
        },
        "outputId": "a303f0fb-e7f7-4d58-8c21-f7786721bf10"
      },
      "outputs": [
        {
          "output_type": "stream",
          "name": "stderr",
          "text": [
            "<ipython-input-3-06fc1981e9d9>:1: FutureWarning: The default value of numeric_only in DataFrame.quantile is deprecated. In a future version, it will default to False. Select only valid columns or specify the value of numeric_only to silence this warning.\n",
            "  q1=dataset.quantile(0.25)\n",
            "<ipython-input-3-06fc1981e9d9>:2: FutureWarning: The default value of numeric_only in DataFrame.quantile is deprecated. In a future version, it will default to False. Select only valid columns or specify the value of numeric_only to silence this warning.\n",
            "  q3=dataset.quantile(0.75)\n",
            "<ipython-input-3-06fc1981e9d9>:5: FutureWarning: Automatic reindexing on DataFrame vs Series comparisons is deprecated and will raise ValueError in a future version. Do `left, right = left.align(right, axis=1, copy=False)` before e.g. `left == right`\n",
            "  outliers = dataset[((dataset<(q1-1.5*IQR)) | (dataset>(q3+1.5*IQR)))]\n"
          ]
        },
        {
          "output_type": "stream",
          "name": "stdout",
          "text": [
            "number of outliers:177482\n"
          ]
        }
      ],
      "source": [
        "q1=dataset.quantile(0.25)\n",
        "q3=dataset.quantile(0.75)\n",
        "#using quartiles to find outliers\n",
        "IQR=q3-q1\n",
        "outliers = dataset[((dataset<(q1-1.5*IQR)) | (dataset>(q3+1.5*IQR)))]\n",
        "print(\"number of outliers:\" + str(len(outliers)))"
      ]
    },
    {
      "cell_type": "markdown",
      "metadata": {
        "id": "5kLwSTRu0NsK"
      },
      "source": [
        "# Finding missing values\n",
        "--> so this doesn't cause an error later on when ir comes to selecting features, plus you can feel them up with mean column value if its missing"
      ]
    },
    {
      "cell_type": "code",
      "execution_count": null,
      "metadata": {
        "id": "XMb3HbwF0Krj",
        "colab": {
          "base_uri": "https://localhost:8080/"
        },
        "outputId": "321127b7-e366-4419-db87-480ee67750ef"
      },
      "outputs": [
        {
          "output_type": "execute_result",
          "data": {
            "text/plain": [
              "Unnamed: 0        0\n",
              "Flow ID           0\n",
              "Source IP         0\n",
              "Source Port       0\n",
              "Destination IP    0\n",
              "                 ..\n",
              "Idle Mean         0\n",
              "Idle Std          0\n",
              "Idle Max          0\n",
              "Idle Min          0\n",
              "Class             0\n",
              "Length: 86, dtype: int64"
            ]
          },
          "metadata": {},
          "execution_count": 4
        }
      ],
      "source": [
        "dataset.isnull().sum() #The above command returns total number of missing values in each column in the dataframe."
      ]
    },
    {
      "cell_type": "code",
      "execution_count": null,
      "metadata": {
        "id": "P1-TR8qAMiDl",
        "colab": {
          "base_uri": "https://localhost:8080/"
        },
        "outputId": "d2f4bd23-ef5b-474d-a9dd-48fb6be8f690"
      },
      "outputs": [
        {
          "output_type": "stream",
          "name": "stdout",
          "text": [
            "<class 'pandas.core.frame.DataFrame'>\n",
            "RangeIndex: 177482 entries, 0 to 177481\n",
            "Data columns (total 86 columns):\n",
            " #   Column                       Non-Null Count   Dtype  \n",
            "---  ------                       --------------   -----  \n",
            " 0   Unnamed: 0                   177482 non-null  int64  \n",
            " 1   Flow ID                      177482 non-null  object \n",
            " 2   Source IP                    177482 non-null  object \n",
            " 3   Source Port                  177482 non-null  int64  \n",
            " 4   Destination IP               177482 non-null  object \n",
            " 5   Destination Port             177482 non-null  int64  \n",
            " 6   Protocol                     177482 non-null  int64  \n",
            " 7   Timestamp                    177482 non-null  object \n",
            " 8   Flow Duration                177482 non-null  int64  \n",
            " 9   Total Fwd Packets            177482 non-null  int64  \n",
            " 10  Total Backward Packets       177482 non-null  int64  \n",
            " 11  Total Length of Fwd Packets  177482 non-null  float64\n",
            " 12  Total Length of Bwd Packets  177482 non-null  float64\n",
            " 13  Fwd Packet Length Max        177482 non-null  float64\n",
            " 14  Fwd Packet Length Min        177482 non-null  float64\n",
            " 15  Fwd Packet Length Mean       177482 non-null  float64\n",
            " 16  Fwd Packet Length Std        177482 non-null  float64\n",
            " 17  Bwd Packet Length Max        177482 non-null  float64\n",
            " 18  Bwd Packet Length Min        177482 non-null  float64\n",
            " 19  Bwd Packet Length Mean       177482 non-null  float64\n",
            " 20  Bwd Packet Length Std        177482 non-null  float64\n",
            " 21  Flow Bytes/s                 177482 non-null  float64\n",
            " 22  Flow Packets/s               177482 non-null  float64\n",
            " 23  Flow IAT Mean                177482 non-null  float64\n",
            " 24  Flow IAT Std                 177482 non-null  float64\n",
            " 25  Flow IAT Max                 177482 non-null  float64\n",
            " 26  Flow IAT Min                 177482 non-null  float64\n",
            " 27  Fwd IAT Total                177482 non-null  float64\n",
            " 28  Fwd IAT Mean                 177482 non-null  float64\n",
            " 29  Fwd IAT Std                  177482 non-null  float64\n",
            " 30  Fwd IAT Max                  177482 non-null  float64\n",
            " 31  Fwd IAT Min                  177482 non-null  float64\n",
            " 32  Bwd IAT Total                177482 non-null  float64\n",
            " 33  Bwd IAT Mean                 177482 non-null  float64\n",
            " 34  Bwd IAT Std                  177482 non-null  float64\n",
            " 35  Bwd IAT Max                  177482 non-null  float64\n",
            " 36  Bwd IAT Min                  177482 non-null  float64\n",
            " 37  Fwd PSH Flags                177482 non-null  int64  \n",
            " 38  Bwd PSH Flags                177482 non-null  int64  \n",
            " 39  Fwd URG Flags                177482 non-null  int64  \n",
            " 40  Bwd URG Flags                177482 non-null  int64  \n",
            " 41  Fwd Header Length            177482 non-null  int64  \n",
            " 42  Bwd Header Length            177482 non-null  int64  \n",
            " 43  Fwd Packets/s                177482 non-null  float64\n",
            " 44  Bwd Packets/s                177482 non-null  float64\n",
            " 45  Min Packet Length            177482 non-null  float64\n",
            " 46  Max Packet Length            177482 non-null  float64\n",
            " 47  Packet Length Mean           177482 non-null  float64\n",
            " 48  Packet Length Std            177482 non-null  float64\n",
            " 49  Packet Length Variance       177482 non-null  float64\n",
            " 50  FIN Flag Count               177482 non-null  int64  \n",
            " 51  SYN Flag Count               177482 non-null  int64  \n",
            " 52  RST Flag Count               177482 non-null  int64  \n",
            " 53  PSH Flag Count               177482 non-null  int64  \n",
            " 54  ACK Flag Count               177482 non-null  int64  \n",
            " 55  URG Flag Count               177482 non-null  int64  \n",
            " 56  CWE Flag Count               177482 non-null  int64  \n",
            " 57  ECE Flag Count               177482 non-null  int64  \n",
            " 58  Down/Up Ratio                177482 non-null  float64\n",
            " 59  Average Packet Size          177482 non-null  float64\n",
            " 60  Avg Fwd Segment Size         177482 non-null  float64\n",
            " 61  Avg Bwd Segment Size         177482 non-null  float64\n",
            " 62  Fwd Header Length.1          177482 non-null  int64  \n",
            " 63  Fwd Avg Bytes/Bulk           177482 non-null  int64  \n",
            " 64  Fwd Avg Packets/Bulk         177482 non-null  int64  \n",
            " 65  Fwd Avg Bulk Rate            177482 non-null  int64  \n",
            " 66  Bwd Avg Bytes/Bulk           177482 non-null  int64  \n",
            " 67  Bwd Avg Packets/Bulk         177482 non-null  int64  \n",
            " 68  Bwd Avg Bulk Rate            177482 non-null  int64  \n",
            " 69  Subflow Fwd Packets          177482 non-null  int64  \n",
            " 70  Subflow Fwd Bytes            177482 non-null  int64  \n",
            " 71  Subflow Bwd Packets          177482 non-null  int64  \n",
            " 72  Subflow Bwd Bytes            177482 non-null  int64  \n",
            " 73  Init_Win_bytes_forward       177482 non-null  int64  \n",
            " 74  Init_Win_bytes_backward      177482 non-null  int64  \n",
            " 75  act_data_pkt_fwd             177482 non-null  int64  \n",
            " 76  min_seg_size_forward         177482 non-null  int64  \n",
            " 77  Active Mean                  177482 non-null  float64\n",
            " 78  Active Std                   177482 non-null  float64\n",
            " 79  Active Max                   177482 non-null  float64\n",
            " 80  Active Min                   177482 non-null  float64\n",
            " 81  Idle Mean                    177482 non-null  float64\n",
            " 82  Idle Std                     177482 non-null  float64\n",
            " 83  Idle Max                     177482 non-null  float64\n",
            " 84  Idle Min                     177482 non-null  float64\n",
            " 85  Class                        177482 non-null  object \n",
            "dtypes: float64(45), int64(36), object(5)\n",
            "memory usage: 116.5+ MB\n"
          ]
        }
      ],
      "source": [
        "dataset.info()"
      ]
    },
    {
      "cell_type": "markdown",
      "metadata": {
        "id": "f04J09MA-Di5"
      },
      "source": [
        "#Changing the values of target column to a boolean value"
      ]
    },
    {
      "cell_type": "code",
      "execution_count": null,
      "metadata": {
        "id": "Azaw9TgV-KBX"
      },
      "outputs": [],
      "source": [
        "dataset = dataset.replace(\"Trojan\", 1)\n",
        "dataset = dataset.replace(\"Benign\", 0)\n",
        "dataset = dataset.drop(['Unnamed: 0'], axis=1) # don't want it as a feature\n",
        "dataset = dataset.drop(['Timestamp'], axis=1) # don't want it as a feature"
      ]
    },
    {
      "cell_type": "markdown",
      "metadata": {
        "id": "EQtIAhqMq4he"
      },
      "source": [
        "# Encoding\n",
        "--> Changing the values to numerical values than using categorical data as this wont be able to processed by sciki learn and creating features with numerical data is much easier than categorical\n",
        "\n",
        "--> Encde the object data type to float"
      ]
    },
    {
      "cell_type": "code",
      "execution_count": null,
      "metadata": {
        "id": "zH4qO1RZ9_2g",
        "colab": {
          "base_uri": "https://localhost:8080/",
          "height": 351
        },
        "outputId": "31d8f8df-feef-46dc-fef7-c427c78e6129"
      },
      "outputs": [
        {
          "output_type": "execute_result",
          "data": {
            "text/plain": [
              "   Flow ID  Source IP  Source Port  Destination IP  Destination Port  \\\n",
              "0    46111    1042042        49975      1211425584                80   \n",
              "1    74905    1042042        49169      1722176226               443   \n",
              "2     9217    1042042        37749          104201                53   \n",
              "3    10418    1042042        41352          104201                53   \n",
              "4    20763   10420151        44353      1072224177               443   \n",
              "\n",
              "   Protocol  Flow Duration  Total Fwd Packets  Total Backward Packets  \\\n",
              "0         6       10743584                  4                       4   \n",
              "1        17         254217                  6                       7   \n",
              "2        17        1023244                  1                       1   \n",
              "3        17         286483                  1                       1   \n",
              "4         6       65633087                 12                      10   \n",
              "\n",
              "   Total Length of Fwd Packets  ...  min_seg_size_forward  Active Mean  \\\n",
              "0                        372.0  ...                    20          0.0   \n",
              "1                       3191.0  ...                    20          0.0   \n",
              "2                         30.0  ...                    32          0.0   \n",
              "3                         40.0  ...                    20          0.0   \n",
              "4                        767.0  ...                    32     322594.0   \n",
              "\n",
              "   Active Std  Active Max  Active Min   Idle Mean  Idle Std    Idle Max  \\\n",
              "0         0.0         0.0         0.0         0.0       0.0         0.0   \n",
              "1         0.0         0.0         0.0         0.0       0.0         0.0   \n",
              "2         0.0         0.0         0.0         0.0       0.0         0.0   \n",
              "3         0.0         0.0         0.0         0.0       0.0         0.0   \n",
              "4         0.0    322594.0    322594.0  60306983.0       0.0  60306983.0   \n",
              "\n",
              "     Idle Min  Class  \n",
              "0         0.0      1  \n",
              "1         0.0      1  \n",
              "2         0.0      0  \n",
              "3         0.0      1  \n",
              "4  60306983.0      0  \n",
              "\n",
              "[5 rows x 84 columns]"
            ],
            "text/html": [
              "\n",
              "  <div id=\"df-e26fe268-7268-4ad9-87a8-6932ab3bc5ae\">\n",
              "    <div class=\"colab-df-container\">\n",
              "      <div>\n",
              "<style scoped>\n",
              "    .dataframe tbody tr th:only-of-type {\n",
              "        vertical-align: middle;\n",
              "    }\n",
              "\n",
              "    .dataframe tbody tr th {\n",
              "        vertical-align: top;\n",
              "    }\n",
              "\n",
              "    .dataframe thead th {\n",
              "        text-align: right;\n",
              "    }\n",
              "</style>\n",
              "<table border=\"1\" class=\"dataframe\">\n",
              "  <thead>\n",
              "    <tr style=\"text-align: right;\">\n",
              "      <th></th>\n",
              "      <th>Flow ID</th>\n",
              "      <th>Source IP</th>\n",
              "      <th>Source Port</th>\n",
              "      <th>Destination IP</th>\n",
              "      <th>Destination Port</th>\n",
              "      <th>Protocol</th>\n",
              "      <th>Flow Duration</th>\n",
              "      <th>Total Fwd Packets</th>\n",
              "      <th>Total Backward Packets</th>\n",
              "      <th>Total Length of Fwd Packets</th>\n",
              "      <th>...</th>\n",
              "      <th>min_seg_size_forward</th>\n",
              "      <th>Active Mean</th>\n",
              "      <th>Active Std</th>\n",
              "      <th>Active Max</th>\n",
              "      <th>Active Min</th>\n",
              "      <th>Idle Mean</th>\n",
              "      <th>Idle Std</th>\n",
              "      <th>Idle Max</th>\n",
              "      <th>Idle Min</th>\n",
              "      <th>Class</th>\n",
              "    </tr>\n",
              "  </thead>\n",
              "  <tbody>\n",
              "    <tr>\n",
              "      <th>0</th>\n",
              "      <td>46111</td>\n",
              "      <td>1042042</td>\n",
              "      <td>49975</td>\n",
              "      <td>1211425584</td>\n",
              "      <td>80</td>\n",
              "      <td>6</td>\n",
              "      <td>10743584</td>\n",
              "      <td>4</td>\n",
              "      <td>4</td>\n",
              "      <td>372.0</td>\n",
              "      <td>...</td>\n",
              "      <td>20</td>\n",
              "      <td>0.0</td>\n",
              "      <td>0.0</td>\n",
              "      <td>0.0</td>\n",
              "      <td>0.0</td>\n",
              "      <td>0.0</td>\n",
              "      <td>0.0</td>\n",
              "      <td>0.0</td>\n",
              "      <td>0.0</td>\n",
              "      <td>1</td>\n",
              "    </tr>\n",
              "    <tr>\n",
              "      <th>1</th>\n",
              "      <td>74905</td>\n",
              "      <td>1042042</td>\n",
              "      <td>49169</td>\n",
              "      <td>1722176226</td>\n",
              "      <td>443</td>\n",
              "      <td>17</td>\n",
              "      <td>254217</td>\n",
              "      <td>6</td>\n",
              "      <td>7</td>\n",
              "      <td>3191.0</td>\n",
              "      <td>...</td>\n",
              "      <td>20</td>\n",
              "      <td>0.0</td>\n",
              "      <td>0.0</td>\n",
              "      <td>0.0</td>\n",
              "      <td>0.0</td>\n",
              "      <td>0.0</td>\n",
              "      <td>0.0</td>\n",
              "      <td>0.0</td>\n",
              "      <td>0.0</td>\n",
              "      <td>1</td>\n",
              "    </tr>\n",
              "    <tr>\n",
              "      <th>2</th>\n",
              "      <td>9217</td>\n",
              "      <td>1042042</td>\n",
              "      <td>37749</td>\n",
              "      <td>104201</td>\n",
              "      <td>53</td>\n",
              "      <td>17</td>\n",
              "      <td>1023244</td>\n",
              "      <td>1</td>\n",
              "      <td>1</td>\n",
              "      <td>30.0</td>\n",
              "      <td>...</td>\n",
              "      <td>32</td>\n",
              "      <td>0.0</td>\n",
              "      <td>0.0</td>\n",
              "      <td>0.0</td>\n",
              "      <td>0.0</td>\n",
              "      <td>0.0</td>\n",
              "      <td>0.0</td>\n",
              "      <td>0.0</td>\n",
              "      <td>0.0</td>\n",
              "      <td>0</td>\n",
              "    </tr>\n",
              "    <tr>\n",
              "      <th>3</th>\n",
              "      <td>10418</td>\n",
              "      <td>1042042</td>\n",
              "      <td>41352</td>\n",
              "      <td>104201</td>\n",
              "      <td>53</td>\n",
              "      <td>17</td>\n",
              "      <td>286483</td>\n",
              "      <td>1</td>\n",
              "      <td>1</td>\n",
              "      <td>40.0</td>\n",
              "      <td>...</td>\n",
              "      <td>20</td>\n",
              "      <td>0.0</td>\n",
              "      <td>0.0</td>\n",
              "      <td>0.0</td>\n",
              "      <td>0.0</td>\n",
              "      <td>0.0</td>\n",
              "      <td>0.0</td>\n",
              "      <td>0.0</td>\n",
              "      <td>0.0</td>\n",
              "      <td>1</td>\n",
              "    </tr>\n",
              "    <tr>\n",
              "      <th>4</th>\n",
              "      <td>20763</td>\n",
              "      <td>10420151</td>\n",
              "      <td>44353</td>\n",
              "      <td>1072224177</td>\n",
              "      <td>443</td>\n",
              "      <td>6</td>\n",
              "      <td>65633087</td>\n",
              "      <td>12</td>\n",
              "      <td>10</td>\n",
              "      <td>767.0</td>\n",
              "      <td>...</td>\n",
              "      <td>32</td>\n",
              "      <td>322594.0</td>\n",
              "      <td>0.0</td>\n",
              "      <td>322594.0</td>\n",
              "      <td>322594.0</td>\n",
              "      <td>60306983.0</td>\n",
              "      <td>0.0</td>\n",
              "      <td>60306983.0</td>\n",
              "      <td>60306983.0</td>\n",
              "      <td>0</td>\n",
              "    </tr>\n",
              "  </tbody>\n",
              "</table>\n",
              "<p>5 rows × 84 columns</p>\n",
              "</div>\n",
              "      <button class=\"colab-df-convert\" onclick=\"convertToInteractive('df-e26fe268-7268-4ad9-87a8-6932ab3bc5ae')\"\n",
              "              title=\"Convert this dataframe to an interactive table.\"\n",
              "              style=\"display:none;\">\n",
              "        \n",
              "  <svg xmlns=\"http://www.w3.org/2000/svg\" height=\"24px\"viewBox=\"0 0 24 24\"\n",
              "       width=\"24px\">\n",
              "    <path d=\"M0 0h24v24H0V0z\" fill=\"none\"/>\n",
              "    <path d=\"M18.56 5.44l.94 2.06.94-2.06 2.06-.94-2.06-.94-.94-2.06-.94 2.06-2.06.94zm-11 1L8.5 8.5l.94-2.06 2.06-.94-2.06-.94L8.5 2.5l-.94 2.06-2.06.94zm10 10l.94 2.06.94-2.06 2.06-.94-2.06-.94-.94-2.06-.94 2.06-2.06.94z\"/><path d=\"M17.41 7.96l-1.37-1.37c-.4-.4-.92-.59-1.43-.59-.52 0-1.04.2-1.43.59L10.3 9.45l-7.72 7.72c-.78.78-.78 2.05 0 2.83L4 21.41c.39.39.9.59 1.41.59.51 0 1.02-.2 1.41-.59l7.78-7.78 2.81-2.81c.8-.78.8-2.07 0-2.86zM5.41 20L4 18.59l7.72-7.72 1.47 1.35L5.41 20z\"/>\n",
              "  </svg>\n",
              "      </button>\n",
              "      \n",
              "  <style>\n",
              "    .colab-df-container {\n",
              "      display:flex;\n",
              "      flex-wrap:wrap;\n",
              "      gap: 12px;\n",
              "    }\n",
              "\n",
              "    .colab-df-convert {\n",
              "      background-color: #E8F0FE;\n",
              "      border: none;\n",
              "      border-radius: 50%;\n",
              "      cursor: pointer;\n",
              "      display: none;\n",
              "      fill: #1967D2;\n",
              "      height: 32px;\n",
              "      padding: 0 0 0 0;\n",
              "      width: 32px;\n",
              "    }\n",
              "\n",
              "    .colab-df-convert:hover {\n",
              "      background-color: #E2EBFA;\n",
              "      box-shadow: 0px 1px 2px rgba(60, 64, 67, 0.3), 0px 1px 3px 1px rgba(60, 64, 67, 0.15);\n",
              "      fill: #174EA6;\n",
              "    }\n",
              "\n",
              "    [theme=dark] .colab-df-convert {\n",
              "      background-color: #3B4455;\n",
              "      fill: #D2E3FC;\n",
              "    }\n",
              "\n",
              "    [theme=dark] .colab-df-convert:hover {\n",
              "      background-color: #434B5C;\n",
              "      box-shadow: 0px 1px 3px 1px rgba(0, 0, 0, 0.15);\n",
              "      filter: drop-shadow(0px 1px 2px rgba(0, 0, 0, 0.3));\n",
              "      fill: #FFFFFF;\n",
              "    }\n",
              "  </style>\n",
              "\n",
              "      <script>\n",
              "        const buttonEl =\n",
              "          document.querySelector('#df-e26fe268-7268-4ad9-87a8-6932ab3bc5ae button.colab-df-convert');\n",
              "        buttonEl.style.display =\n",
              "          google.colab.kernel.accessAllowed ? 'block' : 'none';\n",
              "\n",
              "        async function convertToInteractive(key) {\n",
              "          const element = document.querySelector('#df-e26fe268-7268-4ad9-87a8-6932ab3bc5ae');\n",
              "          const dataTable =\n",
              "            await google.colab.kernel.invokeFunction('convertToInteractive',\n",
              "                                                     [key], {});\n",
              "          if (!dataTable) return;\n",
              "\n",
              "          const docLinkHtml = 'Like what you see? Visit the ' +\n",
              "            '<a target=\"_blank\" href=https://colab.research.google.com/notebooks/data_table.ipynb>data table notebook</a>'\n",
              "            + ' to learn more about interactive tables.';\n",
              "          element.innerHTML = '';\n",
              "          dataTable['output_type'] = 'display_data';\n",
              "          await google.colab.output.renderOutput(dataTable, element);\n",
              "          const docLink = document.createElement('div');\n",
              "          docLink.innerHTML = docLinkHtml;\n",
              "          element.appendChild(docLink);\n",
              "        }\n",
              "      </script>\n",
              "    </div>\n",
              "  </div>\n",
              "  "
            ]
          },
          "metadata": {},
          "execution_count": 7
        }
      ],
      "source": [
        "#Label Encoding\n",
        "number = preprocessing.LabelEncoder()\n",
        "dataset[\"Flow ID\"] = number.fit_transform(dataset[\"Flow ID\"])#Convert categorical to numerical\n",
        "\n",
        "#Modify the values by removing the decimal point and then combinig them together to a string of integers\n",
        "dataset['Source IP'] = dataset['Source IP'].apply(lambda x: ''.join(x.split('.')))\n",
        "dataset['Destination IP'] = dataset['Destination IP'].apply(lambda x: ''.join(x.split('.')))\n",
        "\n",
        "#converting to interger type using .astype()\n",
        "dataset['Flow ID'] = dataset['Flow ID'].astype(int)\n",
        "dataset['Source IP'] = dataset['Source IP'].astype(int)\n",
        "dataset['Destination IP'] = dataset['Destination IP'].astype(int)\n",
        "\n",
        "dataset.head()"
      ]
    },
    {
      "cell_type": "code",
      "source": [
        "print(dataset.columns) # columns of the dataset"
      ],
      "metadata": {
        "colab": {
          "base_uri": "https://localhost:8080/"
        },
        "id": "u--V_OICMF8G",
        "outputId": "09f4f8cd-2354-4425-c8f5-de0159a35fad"
      },
      "execution_count": null,
      "outputs": [
        {
          "output_type": "stream",
          "name": "stdout",
          "text": [
            "Index(['Flow ID', 'Source IP', 'Source Port', 'Destination IP',\n",
            "       'Destination Port', 'Protocol', 'Flow Duration', 'Total Fwd Packets',\n",
            "       'Total Backward Packets', 'Total Length of Fwd Packets',\n",
            "       'Total Length of Bwd Packets', 'Fwd Packet Length Max',\n",
            "       'Fwd Packet Length Min', 'Fwd Packet Length Mean',\n",
            "       'Fwd Packet Length Std', 'Bwd Packet Length Max',\n",
            "       'Bwd Packet Length Min', 'Bwd Packet Length Mean',\n",
            "       'Bwd Packet Length Std', 'Flow Bytes/s', 'Flow Packets/s',\n",
            "       'Flow IAT Mean', 'Flow IAT Std', 'Flow IAT Max', 'Flow IAT Min',\n",
            "       'Fwd IAT Total', 'Fwd IAT Mean', 'Fwd IAT Std', 'Fwd IAT Max',\n",
            "       'Fwd IAT Min', 'Bwd IAT Total', 'Bwd IAT Mean', 'Bwd IAT Std',\n",
            "       'Bwd IAT Max', 'Bwd IAT Min', 'Fwd PSH Flags', 'Bwd PSH Flags',\n",
            "       'Fwd URG Flags', 'Bwd URG Flags', 'Fwd Header Length',\n",
            "       'Bwd Header Length', 'Fwd Packets/s', 'Bwd Packets/s',\n",
            "       'Min Packet Length', 'Max Packet Length', 'Packet Length Mean',\n",
            "       'Packet Length Std', 'Packet Length Variance', 'FIN Flag Count',\n",
            "       'SYN Flag Count', 'RST Flag Count', 'PSH Flag Count', 'ACK Flag Count',\n",
            "       'URG Flag Count', 'CWE Flag Count', 'ECE Flag Count', 'Down/Up Ratio',\n",
            "       'Average Packet Size', 'Avg Fwd Segment Size', 'Avg Bwd Segment Size',\n",
            "       'Fwd Header Length.1', 'Fwd Avg Bytes/Bulk', 'Fwd Avg Packets/Bulk',\n",
            "       'Fwd Avg Bulk Rate', 'Bwd Avg Bytes/Bulk', 'Bwd Avg Packets/Bulk',\n",
            "       'Bwd Avg Bulk Rate', 'Subflow Fwd Packets', 'Subflow Fwd Bytes',\n",
            "       'Subflow Bwd Packets', 'Subflow Bwd Bytes', 'Init_Win_bytes_forward',\n",
            "       'Init_Win_bytes_backward', 'act_data_pkt_fwd', 'min_seg_size_forward',\n",
            "       'Active Mean', 'Active Std', 'Active Max', 'Active Min', 'Idle Mean',\n",
            "       'Idle Std', 'Idle Max', 'Idle Min', 'Class'],\n",
            "      dtype='object')\n"
          ]
        }
      ]
    },
    {
      "cell_type": "code",
      "source": [
        "sns.countplot(data=dataset, x='Class')\n",
        "plt.xlabel('Class')\n",
        "plt.ylabel('Count')\n",
        "plt.title('Distribution of Class')\n",
        "plt.show()\n",
        "#0 = benign 1= trojan"
      ],
      "metadata": {
        "colab": {
          "base_uri": "https://localhost:8080/",
          "height": 472
        },
        "id": "8PI8Q2rpPdzV",
        "outputId": "4920032a-440d-4bb2-882b-6c74d7e67aa0"
      },
      "execution_count": null,
      "outputs": [
        {
          "output_type": "display_data",
          "data": {
            "text/plain": [
              "<Figure size 640x480 with 1 Axes>"
            ],
            "image/png": "[encoded data removed]"
          },
          "metadata": {}
        }
      ]
    },
    {
      "cell_type": "markdown",
      "metadata": {
        "id": "1j61MVswvTPz"
      },
      "source": [
        "# View summary of dataset\n",
        "-->Find what datatypes each column is"
      ]
    },
    {
      "cell_type": "code",
      "execution_count": null,
      "metadata": {
        "id": "U2TKJ4xkvStI",
        "colab": {
          "base_uri": "https://localhost:8080/"
        },
        "outputId": "7d58d697-63b0-4988-998c-bc50f1e765dd"
      },
      "outputs": [
        {
          "output_type": "stream",
          "name": "stdout",
          "text": [
            "<class 'pandas.core.frame.DataFrame'>\n",
            "RangeIndex: 177482 entries, 0 to 177481\n",
            "Data columns (total 84 columns):\n",
            " #   Column                       Non-Null Count   Dtype  \n",
            "---  ------                       --------------   -----  \n",
            " 0   Flow ID                      177482 non-null  int64  \n",
            " 1   Source IP                    177482 non-null  int64  \n",
            " 2   Source Port                  177482 non-null  int64  \n",
            " 3   Destination IP               177482 non-null  int64  \n",
            " 4   Destination Port             177482 non-null  int64  \n",
            " 5   Protocol                     177482 non-null  int64  \n",
            " 6   Flow Duration                177482 non-null  int64  \n",
            " 7   Total Fwd Packets            177482 non-null  int64  \n",
            " 8   Total Backward Packets       177482 non-null  int64  \n",
            " 9   Total Length of Fwd Packets  177482 non-null  float64\n",
            " 10  Total Length of Bwd Packets  177482 non-null  float64\n",
            " 11  Fwd Packet Length Max        177482 non-null  float64\n",
            " 12  Fwd Packet Length Min        177482 non-null  float64\n",
            " 13  Fwd Packet Length Mean       177482 non-null  float64\n",
            " 14  Fwd Packet Length Std        177482 non-null  float64\n",
            " 15  Bwd Packet Length Max        177482 non-null  float64\n",
            " 16  Bwd Packet Length Min        177482 non-null  float64\n",
            " 17  Bwd Packet Length Mean       177482 non-null  float64\n",
            " 18  Bwd Packet Length Std        177482 non-null  float64\n",
            " 19  Flow Bytes/s                 177482 non-null  float64\n",
            " 20  Flow Packets/s               177482 non-null  float64\n",
            " 21  Flow IAT Mean                177482 non-null  float64\n",
            " 22  Flow IAT Std                 177482 non-null  float64\n",
            " 23  Flow IAT Max                 177482 non-null  float64\n",
            " 24  Flow IAT Min                 177482 non-null  float64\n",
            " 25  Fwd IAT Total                177482 non-null  float64\n",
            " 26  Fwd IAT Mean                 177482 non-null  float64\n",
            " 27  Fwd IAT Std                  177482 non-null  float64\n",
            " 28  Fwd IAT Max                  177482 non-null  float64\n",
            " 29  Fwd IAT Min                  177482 non-null  float64\n",
            " 30  Bwd IAT Total                177482 non-null  float64\n",
            " 31  Bwd IAT Mean                 177482 non-null  float64\n",
            " 32  Bwd IAT Std                  177482 non-null  float64\n",
            " 33  Bwd IAT Max                  177482 non-null  float64\n",
            " 34  Bwd IAT Min                  177482 non-null  float64\n",
            " 35  Fwd PSH Flags                177482 non-null  int64  \n",
            " 36  Bwd PSH Flags                177482 non-null  int64  \n",
            " 37  Fwd URG Flags                177482 non-null  int64  \n",
            " 38  Bwd URG Flags                177482 non-null  int64  \n",
            " 39  Fwd Header Length            177482 non-null  int64  \n",
            " 40  Bwd Header Length            177482 non-null  int64  \n",
            " 41  Fwd Packets/s                177482 non-null  float64\n",
            " 42  Bwd Packets/s                177482 non-null  float64\n",
            " 43  Min Packet Length            177482 non-null  float64\n",
            " 44  Max Packet Length            177482 non-null  float64\n",
            " 45  Packet Length Mean           177482 non-null  float64\n",
            " 46  Packet Length Std            177482 non-null  float64\n",
            " 47  Packet Length Variance       177482 non-null  float64\n",
            " 48  FIN Flag Count               177482 non-null  int64  \n",
            " 49  SYN Flag Count               177482 non-null  int64  \n",
            " 50  RST Flag Count               177482 non-null  int64  \n",
            " 51  PSH Flag Count               177482 non-null  int64  \n",
            " 52  ACK Flag Count               177482 non-null  int64  \n",
            " 53  URG Flag Count               177482 non-null  int64  \n",
            " 54  CWE Flag Count               177482 non-null  int64  \n",
            " 55  ECE Flag Count               177482 non-null  int64  \n",
            " 56  Down/Up Ratio                177482 non-null  float64\n",
            " 57  Average Packet Size          177482 non-null  float64\n",
            " 58  Avg Fwd Segment Size         177482 non-null  float64\n",
            " 59  Avg Bwd Segment Size         177482 non-null  float64\n",
            " 60  Fwd Header Length.1          177482 non-null  int64  \n",
            " 61  Fwd Avg Bytes/Bulk           177482 non-null  int64  \n",
            " 62  Fwd Avg Packets/Bulk         177482 non-null  int64  \n",
            " 63  Fwd Avg Bulk Rate            177482 non-null  int64  \n",
            " 64  Bwd Avg Bytes/Bulk           177482 non-null  int64  \n",
            " 65  Bwd Avg Packets/Bulk         177482 non-null  int64  \n",
            " 66  Bwd Avg Bulk Rate            177482 non-null  int64  \n",
            " 67  Subflow Fwd Packets          177482 non-null  int64  \n",
            " 68  Subflow Fwd Bytes            177482 non-null  int64  \n",
            " 69  Subflow Bwd Packets          177482 non-null  int64  \n",
            " 70  Subflow Bwd Bytes            177482 non-null  int64  \n",
            " 71  Init_Win_bytes_forward       177482 non-null  int64  \n",
            " 72  Init_Win_bytes_backward      177482 non-null  int64  \n",
            " 73  act_data_pkt_fwd             177482 non-null  int64  \n",
            " 74  min_seg_size_forward         177482 non-null  int64  \n",
            " 75  Active Mean                  177482 non-null  float64\n",
            " 76  Active Std                   177482 non-null  float64\n",
            " 77  Active Max                   177482 non-null  float64\n",
            " 78  Active Min                   177482 non-null  float64\n",
            " 79  Idle Mean                    177482 non-null  float64\n",
            " 80  Idle Std                     177482 non-null  float64\n",
            " 81  Idle Max                     177482 non-null  float64\n",
            " 82  Idle Min                     177482 non-null  float64\n",
            " 83  Class                        177482 non-null  int64  \n",
            "dtypes: float64(45), int64(39)\n",
            "memory usage: 113.7 MB\n"
          ]
        }
      ],
      "source": [
        "dataset.info() # float64(45), int64(36), object(5), Class is the target column"
      ]
    },
    {
      "cell_type": "markdown",
      "metadata": {
        "id": "bIHpxyLuESj6"
      },
      "source": [
        "# Defining X and y and Splitting data\n",
        "--> the .drop function drops the column Class which is the target column, axis =1 shows that it is a column we want to remove than a axis =0 which is a row\n",
        "\n",
        "--> this now results into a new dataframe that has all the feature columns without the target column there so it won't be used when it comes to finding features later\n",
        "\n",
        "--> now we can use X dataframe to train the model as only feature columns are needed to make predictions\n",
        "\n",
        "--> y now stores the target column. When it comes to training our machine learning model X is only used for to learna d make predictions and target column y is used to calculate the loss or error of the models predictiions during training\n",
        "\n",
        "--> feature selectin method only detects the correlation between the features and the targets that whihch feature can give the highest information gain or reduce in entropy.\n",
        "\n",
        "--> Numpy arrays are more memory efficient so they can process faster than pandas dataframes which is important with large datasets plus nummpyarray is the expected formaat that sciki learn needs as an input\n",
        "\n"
      ]
    },
    {
      "cell_type": "code",
      "execution_count": null,
      "metadata": {
        "id": "6Vgv12IwEL04"
      },
      "outputs": [],
      "source": [
        "#X = feature columns, y=target column\n",
        "#axis =1 drop column, axis = 0 drop row\n",
        "X = dataset.drop(\"Class\", axis=1) #doesn't use the target colulmn for feature extraction, since this already makes it classified\n",
        "y = dataset[\"Class\"] #The target column to be used for predictions and testing\n",
        "\n",
        "#converting dataframe to numpy arrays\n",
        "X = np.array(X)\n",
        "y = np.array(y)"
      ]
    },
    {
      "cell_type": "markdown",
      "metadata": {
        "id": "2CERcxgkxhcH"
      },
      "source": [
        "## Create Training And Test Data\n",
        "Randomly splitting the data into test and train data\n",
        "\n",
        "--> test_size: he proportion of the dataset to include in the testing set. In this case, we're using 0.2 (or 20%) to indicate that we want 20% of the data to be held out for testing, and the remaining 80% will be used for training.\n",
        "\n",
        "-->random_state: The seed value for the random number generator used by scikit-learn. Setting this to a fixed value (like 42) ensures that the data is split in the same way every time the code is run. This can be helpful for reproducibility and debugging purposes.\n",
        "\n",
        "X_train: The input features for the training set.\n",
        "X_test: The input features for the testing set.\n",
        "y_train: The target variable (or labels) for the training set.\n",
        "y_test: The target variable (or labels) for the testing set.\n",
        "\n",
        "The value 42 is often used as an arbitrary seed value because it has become a bit of a convention in the data science community. However, any integer value can be used as a seed value.\n",
        "\n",
        "When random_state is set to 0, the random number generator is initialized with a different seed value, and different random values are generated compared to when the seed value is set to 42.\n",
        "\n",
        "In the context of the train_test_split() function, the random_state parameter ensures that the same random split of the data into training and test sets is performed each time the code is run, as long as the same seed value is used.\n",
        "\n",
        "So, in summary, random_state is used to control the randomness in scikit-learn, and the specific value used (such as 42 or 0) is not important as long as it is consistent."
      ]
    },
    {
      "cell_type": "code",
      "execution_count": null,
      "metadata": {
        "id": "QqFdse1Dxie5",
        "colab": {
          "base_uri": "https://localhost:8080/"
        },
        "outputId": "ae729eb7-6b6c-469f-9522-9e43dbd74f59"
      },
      "outputs": [
        {
          "output_type": "stream",
          "name": "stdout",
          "text": [
            "Training:  (141985, 83) (35497, 83)\n",
            "Testing:  (141985,) (35497,)\n"
          ]
        }
      ],
      "source": [
        "X_train, X_test, y_train, y_test = train_test_split(X, y, test_size=0.2, random_state=42)\n",
        "#test_size = 0.2 means training = 80% and testing = 20%\n",
        "\n",
        "print('Training: ', X_train.shape, X_test.shape)\n",
        "print('Testing: ', y_train.shape, y_test.shape)"
      ]
    },
    {
      "cell_type": "markdown",
      "metadata": {
        "id": "V87K1lHfQKU1"
      },
      "source": [
        "# Feature importance\n",
        "The Gini importance measures the total reduction of the Gini impurity index in the decision trees that make up the random forest when a particular feature is used for splitting the data. Features that lead to a larger reduction in impurity are considered more important.\n",
        "\n",
        "compute the feature importances on the training set only, as this reflects the importance of features in predicting unseen dat\n",
        "\n",
        "\n",
        "sorted_indices gives us the indices of the features in descending order of importance. We can then use these indices to plot the feature importances in descending order, as well as to obtain the feature names in descending order of importance."
      ]
    },
    {
      "cell_type": "code",
      "execution_count": null,
      "metadata": {
        "id": "EesxeCV4wP8G",
        "colab": {
          "base_uri": "https://localhost:8080/",
          "height": 671
        },
        "outputId": "731e10ad-c24e-42ce-ce29-0d761fe715d0"
      },
      "outputs": [
        {
          "output_type": "display_data",
          "data": {
            "text/plain": [
              "<Figure size 1500x800 with 1 Axes>"
            ],
            "image/png": "[encoded data removed]"
          },
          "metadata": {}
        }
      ],
      "source": [
        "classifier = RandomForestClassifier(n_estimators=100, random_state=42)\n",
        "classifier.fit(X_train, y_train)#fit the training data in the model to find the important features\n",
        "\n",
        "important_features = classifier.feature_importances_ #get the feature importanaces\n",
        "feature_index = np.argsort(important_features)[::-1][:25]## Get the indices that would sort the importances in descending order\n",
        "\n",
        "#plotting the features\n",
        "plt.figure(figsize=(15, 8))  # Adjust figure size# Add padding argument\n",
        "sns.barplot(x=important_features[feature_index], y=dataset.columns[feature_index])\n",
        "\n",
        "plt.xlabel('Importance', fontsize=12)  # Increase x-axis font size\n",
        "plt.ylabel('Features', fontsize=12)\n",
        "plt.title('Feature Importance', fontsize=14)\n",
        "plt.show()"
      ]
    },
    {
      "cell_type": "markdown",
      "metadata": {
        "id": "7GX9fTzpJkRT"
      },
      "source": [
        "# Reducing overfitting"
      ]
    },
    {
      "cell_type": "code",
      "execution_count": null,
      "metadata": {
        "id": "QzeTqaeqxy-L"
      },
      "outputs": [],
      "source": [
        "X_train_reduced = X_train[:, feature_index]\n",
        "X_test_reduced = X_test[:, feature_index]"
      ]
    },
    {
      "cell_type": "code",
      "execution_count": null,
      "metadata": {
        "id": "5zCTGUMMvOTn",
        "colab": {
          "base_uri": "https://localhost:8080/",
          "height": 74
        },
        "outputId": "b61793da-cd54-4308-9ed9-4e9addb73e52"
      },
      "outputs": [
        {
          "output_type": "execute_result",
          "data": {
            "text/plain": [
              "RandomForestClassifier(random_state=42)"
            ],
            "text/html": [
              "<style>#sk-container-id-1 {color: black;background-color: white;}#sk-container-id-1 pre{padding: 0;}#sk-container-id-1 div.sk-toggleable {background-color: white;}#sk-container-id-1 label.sk-toggleable__label {cursor: pointer;display: block;width: 100%;margin-bottom: 0;padding: 0.3em;box-sizing: border-box;text-align: center;}#sk-container-id-1 label.sk-toggleable__label-arrow:before {content: \"▸\";float: left;margin-right: 0.25em;color: #696969;}#sk-container-id-1 label.sk-toggleable__label-arrow:hover:before {color: black;}#sk-container-id-1 div.sk-estimator:hover label.sk-toggleable__label-arrow:before {color: black;}#sk-container-id-1 div.sk-toggleable__content {max-height: 0;max-width: 0;overflow: hidden;text-align: left;background-color: #f0f8ff;}#sk-container-id-1 div.sk-toggleable__content pre {margin: 0.2em;color: black;border-radius: 0.25em;background-color: #f0f8ff;}#sk-container-id-1 input.sk-toggleable__control:checked~div.sk-toggleable__content {max-height: 200px;max-width: 100%;overflow: auto;}#sk-container-id-1 input.sk-toggleable__control:checked~label.sk-toggleable__label-arrow:before {content: \"▾\";}#sk-container-id-1 div.sk-estimator input.sk-toggleable__control:checked~label.sk-toggleable__label {background-color: #d4ebff;}#sk-container-id-1 div.sk-label input.sk-toggleable__control:checked~label.sk-toggleable__label {background-color: #d4ebff;}#sk-container-id-1 input.sk-hidden--visually {border: 0;clip: rect(1px 1px 1px 1px);clip: rect(1px, 1px, 1px, 1px);height: 1px;margin: -1px;overflow: hidden;padding: 0;position: absolute;width: 1px;}#sk-container-id-1 div.sk-estimator {font-family: monospace;background-color: #f0f8ff;border: 1px dotted black;border-radius: 0.25em;box-sizing: border-box;margin-bottom: 0.5em;}#sk-container-id-1 div.sk-estimator:hover {background-color: #d4ebff;}#sk-container-id-1 div.sk-parallel-item::after {content: \"\";width: 100%;border-bottom: 1px solid gray;flex-grow: 1;}#sk-container-id-1 div.sk-label:hover label.sk-toggleable__label {background-color: #d4ebff;}#sk-container-id-1 div.sk-serial::before {content: \"\";position: absolute;border-left: 1px solid gray;box-sizing: border-box;top: 0;bottom: 0;left: 50%;z-index: 0;}#sk-container-id-1 div.sk-serial {display: flex;flex-direction: column;align-items: center;background-color: white;padding-right: 0.2em;padding-left: 0.2em;position: relative;}#sk-container-id-1 div.sk-item {position: relative;z-index: 1;}#sk-container-id-1 div.sk-parallel {display: flex;align-items: stretch;justify-content: center;background-color: white;position: relative;}#sk-container-id-1 div.sk-item::before, #sk-container-id-1 div.sk-parallel-item::before {content: \"\";position: absolute;border-left: 1px solid gray;box-sizing: border-box;top: 0;bottom: 0;left: 50%;z-index: -1;}#sk-container-id-1 div.sk-parallel-item {display: flex;flex-direction: column;z-index: 1;position: relative;background-color: white;}#sk-container-id-1 div.sk-parallel-item:first-child::after {align-self: flex-end;width: 50%;}#sk-container-id-1 div.sk-parallel-item:last-child::after {align-self: flex-start;width: 50%;}#sk-container-id-1 div.sk-parallel-item:only-child::after {width: 0;}#sk-container-id-1 div.sk-dashed-wrapped {border: 1px dashed gray;margin: 0 0.4em 0.5em 0.4em;box-sizing: border-box;padding-bottom: 0.4em;background-color: white;}#sk-container-id-1 div.sk-label label {font-family: monospace;font-weight: bold;display: inline-block;line-height: 1.2em;}#sk-container-id-1 div.sk-label-container {text-align: center;}#sk-container-id-1 div.sk-container {/* jupyter's `normalize.less` sets `[hidden] { display: none; }` but bootstrap.min.css set `[hidden] { display: none !important; }` so we also need the `!important` here to be able to override the default hidden behavior on the sphinx rendered scikit-learn.org. See: https://github.com/scikit-learn/scikit-learn/issues/21755 */display: inline-block !important;position: relative;}#sk-container-id-1 div.sk-text-repr-fallback {display: none;}</style><div id=\"sk-container-id-1\" class=\"sk-top-container\"><div class=\"sk-text-repr-fallback\"><pre>RandomForestClassifier(random_state=42)</pre><b>In a Jupyter environment, please rerun this cell to show the HTML representation or trust the notebook. <br />On GitHub, the HTML representation is unable to render, please try loading this page with nbviewer.org.</b></div><div class=\"sk-container\" hidden><div class=\"sk-item\"><div class=\"sk-estimator sk-toggleable\"><input class=\"sk-toggleable__control sk-hidden--visually\" id=\"sk-estimator-id-1\" type=\"checkbox\" checked><label for=\"sk-estimator-id-1\" class=\"sk-toggleable__label sk-toggleable__label-arrow\">RandomForestClassifier</label><div class=\"sk-toggleable__content\"><pre>RandomForestClassifier(random_state=42)</pre></div></div></div></div></div>"
            ]
          },
          "metadata": {},
          "execution_count": 15
        }
      ],
      "source": [
        "classifier.fit(X_train_reduced, y_train)"
      ]
    },
    {
      "cell_type": "markdown",
      "metadata": {
        "id": "1uyRMgBk-P2u"
      },
      "source": [
        "# Test data into the classifiers\n",
        "X_test is the test feature data\n",
        "After training the classifier on the training data using rfc.fit(X_train, y_train), you can use the trained classifier to predict the target values for the test data by calling rfc.predict(X_test). The predicted target values will be returned as a numpy array, which you can compare against the true target values y_test to evaluate the performance of the classifier.\n",
        "\n",
        "\n",
        "ValueError: X has 20 features, but RandomForestClassifier is expecting 83 features as input. to fix this error the best way was to reduce  the fatures size in bothe the x train and x test data"
      ]
    },
    {
      "cell_type": "code",
      "execution_count": null,
      "metadata": {
        "id": "k5Z-Fbsz-X4x"
      },
      "outputs": [],
      "source": [
        "y_pred = classifier.predict(X_test_reduced) #use the classifier to classify data in X train as trojan or benign"
      ]
    },
    {
      "cell_type": "code",
      "source": [
        "from sklearn.metrics import confusion_matrix\n",
        "from tabulate import tabulate\n",
        "\n",
        "cm = confusion_matrix(y_test, y_pred)\n",
        "cm_df = pd.DataFrame(cm, index=['Actual 0', 'Actual 1'], columns=['Predicted 0', 'Predicted 1']) # labell the confusion matrix\n",
        "\n",
        "# Print the labeled confusion matrix\n",
        "cm_table = tabulate(cm_df, headers='keys', tablefmt='psql')\n",
        "print(\"Confusion Matrix:\")\n",
        "print(cm_table)"
      ],
      "metadata": {
        "colab": {
          "base_uri": "https://localhost:8080/"
        },
        "id": "URDmMfL8jvJ3",
        "outputId": "cad4096d-8fac-478e-cb10-a62ebd6b6599"
      },
      "execution_count": null,
      "outputs": [
        {
          "output_type": "stream",
          "name": "stdout",
          "text": [
            "Confusion Matrix:\n",
            "+----------+---------------+---------------+\n",
            "|          |   Predicted 0 |   Predicted 1 |\n",
            "|----------+---------------+---------------|\n",
            "| Actual 0 |         15043 |          2394 |\n",
            "| Actual 1 |          3971 |         14089 |\n",
            "+----------+---------------+---------------+\n"
          ]
        }
      ]
    },
    {
      "cell_type": "code",
      "source": [
        "#Collect the values from the confusion matrix\n",
        "TP = cm[1, 1]  # True Positive\n",
        "FP = cm[0, 1]  # False Positive\n",
        "FN = cm[1, 0]  # False Negative\n",
        "TN = cm[0, 0]  # True Negative\n",
        "\n",
        "#Calculate the valles\n",
        "TPR = TP / (TP + FN)\n",
        "FPR = FP / (FP + TN)\n",
        "Precision = TP / (TP + FP)\n",
        "Accuracy = (TP + TN) / (TP + TN + FP + FN)\n",
        "Recall = TP / (TP + FN)\n",
        "F1_Score = 2 * (Precision * TPR) / (Precision + TPR)"
      ],
      "metadata": {
        "id": "TAIduaXbd2qf"
      },
      "execution_count": null,
      "outputs": []
    },
    {
      "cell_type": "code",
      "source": [
        "print('True positive rate: ', TPR)\n",
        "print('False positive rate: ', FPR)\n",
        "print('Precision:', Precision)\n",
        "print('Accuracy:', Accuracy)\n",
        "print('Recall:', Recall)\n",
        "print('F1_Score:', F1_Score)"
      ],
      "metadata": {
        "colab": {
          "base_uri": "https://localhost:8080/"
        },
        "id": "3m3HCe-Xi4Bp",
        "outputId": "75274714-532a-495a-a178-dada019710ab"
      },
      "execution_count": null,
      "outputs": [
        {
          "output_type": "stream",
          "name": "stdout",
          "text": [
            "True positive rate:  0.7801218161683278\n",
            "False positive rate:  0.13729425933360095\n",
            "Precision: 0.854759449129406\n",
            "Accuracy: 0.8206890723159703\n",
            "Recall: 0.7801218161683278\n",
            "F1_Score: 0.8157369076223836\n"
          ]
        }
      ]
    },
    {
      "cell_type": "code",
      "source": [
        "from sklearn.metrics import roc_curve\n",
        "import matplotlib.pyplot as plt\n",
        "\n",
        "plt.plot(FPR, TPR)\n",
        "plt.plot([0, 1], [0, 1], 'r--')\n",
        "plt.xlabel('False Positive Rate')\n",
        "plt.ylabel('True Positive Rate')\n",
        "plt.title('Receiver Operating Characteristic (ROC) Curve')\n",
        "plt.show()"
      ],
      "metadata": {
        "colab": {
          "base_uri": "https://localhost:8080/",
          "height": 472
        },
        "id": "Xrp0D-Nrwp1g",
        "outputId": "7b938f5f-afd6-43b6-f4f5-0354fbef8aa1"
      },
      "execution_count": null,
      "outputs": [
        {
          "output_type": "display_data",
          "data": {
            "text/plain": [
              "<Figure size 640x480 with 1 Axes>"
            ],
            "image/png": "[encoded data removed]"
          },
          "metadata": {}
        }
      ]
    }
  ],
  "metadata": {
    "colab": {
      "provenance": [],
      "authorship_tag": "ABX9TyOkf/inxuUFYIb7r750c53t",
      "include_colab_link": true
    },
    "kernelspec": {
      "display_name": "Python 3",
      "name": "python3"
    },
    "language_info": {
      "name": "python"
    }
  },
  "nbformat": 4,
  "nbformat_minor": 0
}